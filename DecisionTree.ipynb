{
  "nbformat": 4,
  "nbformat_minor": 0,
  "metadata": {
    "colab": {
      "name": "DecisionTree.ipynb",
      "private_outputs": true,
      "provenance": [],
      "collapsed_sections": []
    },
    "kernelspec": {
      "name": "python3",
      "display_name": "Python 3"
    }
  },
  "cells": [
    {
      "cell_type": "code",
      "metadata": {
        "id": "oF4Z6Isb0hWv"
      },
      "source": [
        "# load data\n",
        "from sklearn.datasets import load_iris\n",
        "iris = load_iris() \n",
        "\n",
        "'''\n",
        "sklearn.utils.Bunch\n",
        "  Bunch本質上的數據類型是dict，屬性有：\n",
        "    DESCR：數據描述。\n",
        "    target_names：標籤名。可自定義，默認爲文件夾名。\n",
        "    filenames：文件名。\n",
        "    target：文件分類。如貓狗兩類的話，與filenames一一對應爲0或1。\n",
        "    data：數據數組。\n",
        "'''"
      ],
      "execution_count": null,
      "outputs": []
    },
    {
      "cell_type": "code",
      "metadata": {
        "id": "F2jp8BDHbc3n"
      },
      "source": [
        "iris"
      ],
      "execution_count": null,
      "outputs": []
    },
    {
      "cell_type": "code",
      "metadata": {
        "id": "FSxDMM388rR6"
      },
      "source": [
        "# data partitioning\n",
        "from sklearn.model_selection import train_test_split\n",
        "x_train, x_test, y_train, y_test =  train_test_split(iris.data, iris.target, test_size = 0.3, random_state = 3)"
      ],
      "execution_count": null,
      "outputs": []
    },
    {
      "cell_type": "code",
      "metadata": {
        "id": "D7a78H_7FzoA"
      },
      "source": [
        "# choose a model\n",
        "from sklearn.tree import DecisionTreeClassifier\n",
        "dt_clf = DecisionTreeClassifier()\n",
        "# training\n",
        "dt_clf.fit(x_train, y_train)"
      ],
      "execution_count": null,
      "outputs": []
    },
    {
      "cell_type": "code",
      "metadata": {
        "id": "4ibaY06OGVu9"
      },
      "source": [
        "# make a prediction\n",
        "y_predict = dt_clf.predict(x_test)\n",
        "# envluating\n",
        "from sklearn.metrics import accuracy_score\n",
        "print('正確率\\n', accuracy_score(y_test, y_predict))"
      ],
      "execution_count": null,
      "outputs": []
    },
    {
      "cell_type": "code",
      "metadata": {
        "id": "r-6qLNA3Z5XL"
      },
      "source": [
        "# data visualization\n",
        "import matplotlib.pyplot as plt\n",
        "from sklearn.tree import plot_tree\n",
        "plt.figure(figsize = (15, 15))\n",
        "plot_tree(dt_clf,\n",
        "         feature_names = iris.feature_names, \n",
        "         class_names = iris.target_names)"
      ],
      "execution_count": null,
      "outputs": []
    }
  ]
}
