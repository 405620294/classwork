{
  "nbformat": 4,
  "nbformat_minor": 0,
  "metadata": {
    "colab": {
      "name": "Heart Disease_practice.ipynb",
      "provenance": [],
      "collapsed_sections": [],
      "authorship_tag": "ABX9TyNe9nn6TlRSAUsNXy1SJyXx",
      "include_colab_link": true
    },
    "kernelspec": {
      "name": "python3",
      "display_name": "Python 3"
    },
    "language_info": {
      "name": "python"
    }
  },
  "cells": [
    {
      "cell_type": "markdown",
      "metadata": {
        "id": "view-in-github",
        "colab_type": "text"
      },
      "source": [
        "<a href=\"https://colab.research.google.com/github/405620294/classwork/blob/main/Heart_Disease_practice.ipynb\" target=\"_parent\"><img src=\"https://colab.research.google.com/assets/colab-badge.svg\" alt=\"Open In Colab\"/></a>"
      ]
    },
    {
      "cell_type": "code",
      "metadata": {
        "id": "8IunueDRGe-p",
        "colab": {
          "base_uri": "https://localhost:8080/",
          "height": 144
        },
        "outputId": "7d2ea3ef-9b8f-48f8-90ab-a8338b9ecc5b"
      },
      "source": [
        "\n",
        "'''\n",
        "about the dataset\n",
        "  age: age in years\n",
        "  sex: 1 = male, 0 = female\n",
        "  cp: chest pain type -- Value 1: typical angina\n",
        "              -- Value 2: atypical angina\n",
        "              -- Value 3: non-anginal pain\n",
        "              -- Value 4: asymptomatic)\n",
        "  trestbps: resting blood pressure (in mm Hg on admission to the hospital)\n",
        "  chol: serum cholestoral in mg/dl\n",
        "  fbs: fasting blood sugar > 120 mg/dl (1 = true; 0 = false)\n",
        "  restecg: resting electrocardiographic results\n",
        "        -- Value 0: normal\n",
        "        -- Value 1: having ST-T wave abnormality (T wave inversions and/or ST elevation or depression of > 0.05 mV)\n",
        "        -- Value 2: showing probable or definite left ventricular hypertrophy by Estes' criteria \n",
        "  thalach: maximum heart rate achieved\n",
        "  exang: exercise induced angina (1 = yes; 0 = no)\n",
        "  oldpeak: ST depression induced by exercise relative to rest\n",
        "  slope: the slope of the peak exercise ST segment\n",
        "        -- Value 1: upsloping\n",
        "        -- Value 2: flat\n",
        "        -- Value 3: downsloping \n",
        "  ca: number of major vessels (0-3) colored by flourosopy\n",
        "  thal: A blood disorder called thalassemia \n",
        "        -- Value 3: normal\n",
        "        -- Value 6: fixed defect\n",
        "        -- Value 7: reversable defect\n",
        "  target: heart disease (0 = no, 1 = yes)\n",
        "\n",
        "'''"
      ],
      "execution_count": 49,
      "outputs": [
        {
          "output_type": "execute_result",
          "data": {
            "application/vnd.google.colaboratory.intrinsic+json": {
              "type": "string"
            },
            "text/plain": [
              "\"\\nabout the dataset\\n  age: age in years\\n  sex: 1 = male, 0 = female\\n  cp: chest pain type -- Value 1: typical angina\\n              -- Value 2: atypical angina\\n              -- Value 3: non-anginal pain\\n              -- Value 4: asymptomatic)\\n  trestbps: resting blood pressure (in mm Hg on admission to the hospital)\\n  chol: serum cholestoral in mg/dl\\n  fbs: fasting blood sugar > 120 mg/dl (1 = true; 0 = false)\\n  restecg: resting electrocardiographic results\\n        -- Value 0: normal\\n        -- Value 1: having ST-T wave abnormality (T wave inversions and/or ST elevation or depression of > 0.05 mV)\\n        -- Value 2: showing probable or definite left ventricular hypertrophy by Estes' criteria \\n  thalach: maximum heart rate achieved\\n  exang: exercise induced angina (1 = yes; 0 = no)\\n  oldpeak: ST depression induced by exercise relative to rest\\n  slope: the slope of the peak exercise ST segment\\n        -- Value 1: upsloping\\n        -- Value 2: flat\\n        -- Value 3: downsloping \\n  ca: number of major vessels (0-3) colored by flourosopy\\n  thal: A blood disorder called thalassemia \\n        -- Value 3: normal\\n        -- Value 6: fixed defect\\n        -- Value 7: reversable defect\\n  target: heart disease (0 = no, 1 = yes)\\n\\n\""
            ]
          },
          "metadata": {
            "tags": []
          },
          "execution_count": 49
        }
      ]
    },
    {
      "cell_type": "code",
      "metadata": {
        "colab": {
          "base_uri": "https://localhost:8080/",
          "height": 90
        },
        "id": "Vus_E9jFTw0W",
        "outputId": "f23b5f58-12a1-4116-8283-2b89fb4fd427"
      },
      "source": [
        "  '''\n",
        "  cp：胸痛類型（值1：典型心絞痛，值2：非典型心絞痛，值3：非心絞痛疼痛，值4：無症狀）\n",
        "  trestbps：患者的靜息血壓（入院時為毫米汞柱）\n",
        "  chol：人的膽固醇測量值，組織為mg/dl\n",
        "  fbs：患者的空腹血糖（>120mg/dl，1=真；0=假）\n",
        "  restecg：靜息心電圖量測（0=正常，1=ST-T波异常，2=根據Estes標準顯示可能或明確的左心室肥厚）\n",
        "  thalach：患者達到的最大心率\n",
        "  exang：運動性心絞痛（1=是；0=否）\n",
        "  oldpeak：運動相對於休息誘發的ST段壓低\n",
        "  slope：峰值運動ST段的斜率（值1：向上傾斜，值2：平坦，值3：向下傾斜）\n",
        "  ca：用螢光粉著色的主要血管數（0-3）\n",
        "  thal：一種稱為地中海貧血的血液疾病（3=正常；6=固定缺陷；7=可逆缺陷）\n",
        "\n",
        "'''"
      ],
      "execution_count": 50,
      "outputs": [
        {
          "output_type": "execute_result",
          "data": {
            "application/vnd.google.colaboratory.intrinsic+json": {
              "type": "string"
            },
            "text/plain": [
              "'\\ncp：胸痛類型（值1：典型心絞痛，值2：非典型心絞痛，值3：非心絞痛疼痛，值4：無症狀）\\ntrestbps：患者的靜息血壓（入院時為毫米汞柱）\\nchol：人的膽固醇測量值，組織為mg/dl\\nfbs：患者的空腹血糖（>120mg/dl，1=真；0=假）\\nrestecg：靜息心電圖量測（0=正常，1=ST-T波异常，2=根據Estes標準顯示可能或明確的左心室肥厚）\\nthalach：患者達到的最大心率\\nexang：運動性心絞痛（1=是；0=否）\\noldpeak：運動相對於休息誘發的ST段壓低\\nslope：峰值運動ST段的斜率（值1：向上傾斜，值2：平坦，值3：向下傾斜）\\nca：用螢光粉著色的主要血管數（0-3）\\nthal：一種稱為地中海貧血的血液疾病（3=正常；6=固定缺陷；7=可逆缺陷）\\n\\n'"
            ]
          },
          "metadata": {
            "tags": []
          },
          "execution_count": 50
        }
      ]
    },
    {
      "cell_type": "code",
      "metadata": {
        "id": "M5ZJPHs4FL0f",
        "colab": {
          "base_uri": "https://localhost:8080/",
          "height": 223
        },
        "outputId": "4c359016-ea10-48c3-848e-39687b942e37"
      },
      "source": [
        "# load data\n",
        "import pandas as pd\n",
        "data = pd.read_csv('heart.csv')\n",
        "print(data.shape)\n",
        "data.head()"
      ],
      "execution_count": 51,
      "outputs": [
        {
          "output_type": "stream",
          "text": [
            "(303, 14)\n"
          ],
          "name": "stdout"
        },
        {
          "output_type": "execute_result",
          "data": {
            "text/html": [
              "<div>\n",
              "<style scoped>\n",
              "    .dataframe tbody tr th:only-of-type {\n",
              "        vertical-align: middle;\n",
              "    }\n",
              "\n",
              "    .dataframe tbody tr th {\n",
              "        vertical-align: top;\n",
              "    }\n",
              "\n",
              "    .dataframe thead th {\n",
              "        text-align: right;\n",
              "    }\n",
              "</style>\n",
              "<table border=\"1\" class=\"dataframe\">\n",
              "  <thead>\n",
              "    <tr style=\"text-align: right;\">\n",
              "      <th></th>\n",
              "      <th>age</th>\n",
              "      <th>sex</th>\n",
              "      <th>cp</th>\n",
              "      <th>trestbps</th>\n",
              "      <th>chol</th>\n",
              "      <th>fbs</th>\n",
              "      <th>restecg</th>\n",
              "      <th>thalach</th>\n",
              "      <th>exang</th>\n",
              "      <th>oldpeak</th>\n",
              "      <th>slope</th>\n",
              "      <th>ca</th>\n",
              "      <th>thal</th>\n",
              "      <th>target</th>\n",
              "    </tr>\n",
              "  </thead>\n",
              "  <tbody>\n",
              "    <tr>\n",
              "      <th>0</th>\n",
              "      <td>63</td>\n",
              "      <td>1</td>\n",
              "      <td>3</td>\n",
              "      <td>145</td>\n",
              "      <td>233</td>\n",
              "      <td>1</td>\n",
              "      <td>0</td>\n",
              "      <td>150</td>\n",
              "      <td>0</td>\n",
              "      <td>2.3</td>\n",
              "      <td>0</td>\n",
              "      <td>0</td>\n",
              "      <td>1</td>\n",
              "      <td>1</td>\n",
              "    </tr>\n",
              "    <tr>\n",
              "      <th>1</th>\n",
              "      <td>37</td>\n",
              "      <td>1</td>\n",
              "      <td>2</td>\n",
              "      <td>130</td>\n",
              "      <td>250</td>\n",
              "      <td>0</td>\n",
              "      <td>1</td>\n",
              "      <td>187</td>\n",
              "      <td>0</td>\n",
              "      <td>3.5</td>\n",
              "      <td>0</td>\n",
              "      <td>0</td>\n",
              "      <td>2</td>\n",
              "      <td>1</td>\n",
              "    </tr>\n",
              "    <tr>\n",
              "      <th>2</th>\n",
              "      <td>41</td>\n",
              "      <td>0</td>\n",
              "      <td>1</td>\n",
              "      <td>130</td>\n",
              "      <td>204</td>\n",
              "      <td>0</td>\n",
              "      <td>0</td>\n",
              "      <td>172</td>\n",
              "      <td>0</td>\n",
              "      <td>1.4</td>\n",
              "      <td>2</td>\n",
              "      <td>0</td>\n",
              "      <td>2</td>\n",
              "      <td>1</td>\n",
              "    </tr>\n",
              "    <tr>\n",
              "      <th>3</th>\n",
              "      <td>56</td>\n",
              "      <td>1</td>\n",
              "      <td>1</td>\n",
              "      <td>120</td>\n",
              "      <td>236</td>\n",
              "      <td>0</td>\n",
              "      <td>1</td>\n",
              "      <td>178</td>\n",
              "      <td>0</td>\n",
              "      <td>0.8</td>\n",
              "      <td>2</td>\n",
              "      <td>0</td>\n",
              "      <td>2</td>\n",
              "      <td>1</td>\n",
              "    </tr>\n",
              "    <tr>\n",
              "      <th>4</th>\n",
              "      <td>57</td>\n",
              "      <td>0</td>\n",
              "      <td>0</td>\n",
              "      <td>120</td>\n",
              "      <td>354</td>\n",
              "      <td>0</td>\n",
              "      <td>1</td>\n",
              "      <td>163</td>\n",
              "      <td>1</td>\n",
              "      <td>0.6</td>\n",
              "      <td>2</td>\n",
              "      <td>0</td>\n",
              "      <td>2</td>\n",
              "      <td>1</td>\n",
              "    </tr>\n",
              "  </tbody>\n",
              "</table>\n",
              "</div>"
            ],
            "text/plain": [
              "   age  sex  cp  trestbps  chol  fbs  ...  exang  oldpeak  slope  ca  thal  target\n",
              "0   63    1   3       145   233    1  ...      0      2.3      0   0     1       1\n",
              "1   37    1   2       130   250    0  ...      0      3.5      0   0     2       1\n",
              "2   41    0   1       130   204    0  ...      0      1.4      2   0     2       1\n",
              "3   56    1   1       120   236    0  ...      0      0.8      2   0     2       1\n",
              "4   57    0   0       120   354    0  ...      1      0.6      2   0     2       1\n",
              "\n",
              "[5 rows x 14 columns]"
            ]
          },
          "metadata": {
            "tags": []
          },
          "execution_count": 51
        }
      ]
    },
    {
      "cell_type": "code",
      "metadata": {
        "colab": {
          "base_uri": "https://localhost:8080/"
        },
        "id": "4ADI-YyTv0z-",
        "outputId": "5c413fd2-5b87-4189-84af-eb5fb8bedf15"
      },
      "source": [
        "data.info()"
      ],
      "execution_count": 52,
      "outputs": [
        {
          "output_type": "stream",
          "text": [
            "<class 'pandas.core.frame.DataFrame'>\n",
            "RangeIndex: 303 entries, 0 to 302\n",
            "Data columns (total 14 columns):\n",
            " #   Column    Non-Null Count  Dtype  \n",
            "---  ------    --------------  -----  \n",
            " 0   age       303 non-null    int64  \n",
            " 1   sex       303 non-null    int64  \n",
            " 2   cp        303 non-null    int64  \n",
            " 3   trestbps  303 non-null    int64  \n",
            " 4   chol      303 non-null    int64  \n",
            " 5   fbs       303 non-null    int64  \n",
            " 6   restecg   303 non-null    int64  \n",
            " 7   thalach   303 non-null    int64  \n",
            " 8   exang     303 non-null    int64  \n",
            " 9   oldpeak   303 non-null    float64\n",
            " 10  slope     303 non-null    int64  \n",
            " 11  ca        303 non-null    int64  \n",
            " 12  thal      303 non-null    int64  \n",
            " 13  target    303 non-null    int64  \n",
            "dtypes: float64(1), int64(13)\n",
            "memory usage: 33.3 KB\n"
          ],
          "name": "stdout"
        }
      ]
    },
    {
      "cell_type": "code",
      "metadata": {
        "id": "w1v4LXb9x_X6"
      },
      "source": [
        "# data['thal'].value_counts()"
      ],
      "execution_count": 53,
      "outputs": []
    },
    {
      "cell_type": "code",
      "metadata": {
        "id": "mo5lCaMtMXAR"
      },
      "source": [
        "# data preprocessing\n",
        "'''\n",
        "cp, restecg, slope, thal >> Categorical data >> one-hot encoding\n",
        "'''\n",
        "import numpy as np\n",
        "\n",
        "# cp -- Value 1: typical angina\n",
        "#   -- Value 2: atypical angina\n",
        "#   -- Value 3: non-anginal pain\n",
        "#   -- Value 4: asymptomatic)\n",
        "data['cp'].replace({0: 'typical angina', 1: 'atypical angina', 2: 'non-anginal pain', 3: 'asymptomatic'}, inplace = True)\n",
        "\n",
        "# restecg -- Value 0: normal\n",
        "#      -- Value 1: having ST-T wave abnormality\n",
        "#      -- Value 2: left ventricular hypertrophy by Estes' criteria \n",
        "data['restecg'].replace({0: 'normal', 1: 'ST-T wave abnormality', 2: 'left ventricular hypertrophy'}, inplace = True)\n",
        "\n",
        "# slope -- Value 1: upsloping\n",
        "#     -- Value 2: flat\n",
        "#     -- Value 3: downsloping  \n",
        "data['slope'].replace({0: 'upsloping', 1: 'flat', 2: 'downsloping'}, inplace = True)\n",
        "\n",
        "# thal -- Value 3: normal\n",
        "#    -- Value 6: fixed defect\n",
        "#    -- Value 7: reversable defect\n",
        "data['thal'].replace({0: np.nan, 1: 'normal', 2: 'fixed defect', 3: 'reversable defect'}, inplace = True)"
      ],
      "execution_count": 54,
      "outputs": []
    },
    {
      "cell_type": "code",
      "metadata": {
        "colab": {
          "base_uri": "https://localhost:8080/"
        },
        "id": "5mUEu1jfOwR8",
        "outputId": "ad488e35-8871-40c8-bb39-614bdeb05e1a"
      },
      "source": [
        "print(data.shape)\n",
        "feature_nan = data.isna().sum()\n",
        "feature_nan[feature_nan > 0]"
      ],
      "execution_count": 55,
      "outputs": [
        {
          "output_type": "stream",
          "text": [
            "(303, 14)\n"
          ],
          "name": "stdout"
        },
        {
          "output_type": "execute_result",
          "data": {
            "text/plain": [
              "thal    2\n",
              "dtype: int64"
            ]
          },
          "metadata": {
            "tags": []
          },
          "execution_count": 55
        }
      ]
    },
    {
      "cell_type": "code",
      "metadata": {
        "id": "dRUTmUbe3Qro"
      },
      "source": [
        "data.dropna(inplace=True)"
      ],
      "execution_count": 56,
      "outputs": []
    },
    {
      "cell_type": "code",
      "metadata": {
        "colab": {
          "base_uri": "https://localhost:8080/"
        },
        "id": "2i3uYZI_7vaO",
        "outputId": "7b3e20a3-f815-4309-d68d-c3390dd7ec08"
      },
      "source": [
        "data = pd.get_dummies(data)\n",
        "print(data.shape)  # 14-4+13=23\n",
        "data.columns"
      ],
      "execution_count": 57,
      "outputs": [
        {
          "output_type": "stream",
          "text": [
            "(301, 23)\n"
          ],
          "name": "stdout"
        },
        {
          "output_type": "execute_result",
          "data": {
            "text/plain": [
              "Index(['age', 'sex', 'trestbps', 'chol', 'fbs', 'thalach', 'exang', 'oldpeak',\n",
              "       'ca', 'target', 'cp_asymptomatic', 'cp_atypical angina',\n",
              "       'cp_non-anginal pain', 'cp_typical angina',\n",
              "       'restecg_ST-T wave abnormality', 'restecg_left ventricular hypertrophy',\n",
              "       'restecg_normal', 'slope_downsloping', 'slope_flat', 'slope_upsloping',\n",
              "       'thal_fixed defect', 'thal_normal', 'thal_reversable defect'],\n",
              "      dtype='object')"
            ]
          },
          "metadata": {
            "tags": []
          },
          "execution_count": 57
        }
      ]
    },
    {
      "cell_type": "code",
      "metadata": {
        "id": "_R4ux9IhMZoy"
      },
      "source": [
        "# split data\n",
        "from sklearn.model_selection import train_test_split\n",
        "x_df = data.drop(columns = ['target'])\n",
        "y_df = data['target']\n",
        "x_train, x_test, y_train, y_test = train_test_split(x_df, y_df, test_size = 0.2, random_state = 3)"
      ],
      "execution_count": 58,
      "outputs": []
    },
    {
      "cell_type": "code",
      "metadata": {
        "colab": {
          "base_uri": "https://localhost:8080/"
        },
        "id": "iIIYa-44NJdr",
        "outputId": "2b64fc70-72f3-43fa-cbb4-ad51bdfc40f5"
      },
      "source": [
        "# choose a model\n",
        "from sklearn.tree import DecisionTreeClassifier\n",
        "dt_clf = DecisionTreeClassifier()\n",
        "\n",
        "# training\n",
        "dt_clf.fit(x_train, y_train)"
      ],
      "execution_count": 59,
      "outputs": [
        {
          "output_type": "execute_result",
          "data": {
            "text/plain": [
              "DecisionTreeClassifier(ccp_alpha=0.0, class_weight=None, criterion='gini',\n",
              "                       max_depth=None, max_features=None, max_leaf_nodes=None,\n",
              "                       min_impurity_decrease=0.0, min_impurity_split=None,\n",
              "                       min_samples_leaf=1, min_samples_split=2,\n",
              "                       min_weight_fraction_leaf=0.0, presort='deprecated',\n",
              "                       random_state=None, splitter='best')"
            ]
          },
          "metadata": {
            "tags": []
          },
          "execution_count": 59
        }
      ]
    },
    {
      "cell_type": "code",
      "metadata": {
        "colab": {
          "base_uri": "https://localhost:8080/"
        },
        "id": "D9guOY_FJJTX",
        "outputId": "934e697c-9df8-467d-824b-2f583dd7fdfd"
      },
      "source": [
        "# parameter tuning\n",
        "from sklearn.model_selection import GridSearchCV\n",
        "grid_search = GridSearchCV(DecisionTreeClassifier(), param_grid = {'max_depth' : range(2,15,1)}, cv = 10)\n",
        "grid_search.fit(x_train, y_train)\n",
        "print(grid_search.best_params_)\n",
        "\n",
        "# training\n",
        "dt_clf2 = DecisionTreeClassifier(max_depth = grid_search.best_params_['max_depth'])\n",
        "dt_clf2.fit(x_train, y_train)"
      ],
      "execution_count": 60,
      "outputs": [
        {
          "output_type": "stream",
          "text": [
            "{'max_depth': 3}\n"
          ],
          "name": "stdout"
        },
        {
          "output_type": "execute_result",
          "data": {
            "text/plain": [
              "DecisionTreeClassifier(ccp_alpha=0.0, class_weight=None, criterion='gini',\n",
              "                       max_depth=3, max_features=None, max_leaf_nodes=None,\n",
              "                       min_impurity_decrease=0.0, min_impurity_split=None,\n",
              "                       min_samples_leaf=1, min_samples_split=2,\n",
              "                       min_weight_fraction_leaf=0.0, presort='deprecated',\n",
              "                       random_state=None, splitter='best')"
            ]
          },
          "metadata": {
            "tags": []
          },
          "execution_count": 60
        }
      ]
    },
    {
      "cell_type": "code",
      "metadata": {
        "colab": {
          "base_uri": "https://localhost:8080/"
        },
        "id": "3fhTG158NNOS",
        "outputId": "f7eaf21a-94e8-426e-a163-6a4c890cf231"
      },
      "source": [
        "# make a prediction\n",
        "pre1 = dt_clf.predict(x_test)\n",
        "pre2 = dt_clf2.predict(x_test)\n",
        "# envaluating\n",
        "from sklearn.metrics import accuracy_score\n",
        "print('未調參正確率\\n', accuracy_score(y_test, pre1))\n",
        "print('調參後正確率\\n', accuracy_score(y_test, pre2))"
      ],
      "execution_count": 61,
      "outputs": [
        {
          "output_type": "stream",
          "text": [
            "未調參正確率\n",
            " 0.6885245901639344\n",
            "調參後正確率\n",
            " 0.7377049180327869\n"
          ],
          "name": "stdout"
        }
      ]
    },
    {
      "cell_type": "code",
      "metadata": {
        "colab": {
          "base_uri": "https://localhost:8080/"
        },
        "id": "4fM2cImqSIWW",
        "outputId": "674bb229-5c1c-4af1-ae68-70cba3561d7c"
      },
      "source": [
        "# data imbalance\n",
        "from sklearn.metrics import precision_score, recall_score, f1_score\n",
        "print('精確率： 未調參', precision_score(y_test, pre1), '調參後', precision_score(y_test, pre2))\n",
        "print('招回率： 未調參', recall_score(y_test, pre1), '調參後', recall_score(y_test, pre2))\n",
        "print('F1 score： 未調參', f1_score(y_test, pre1), '調參後', f1_score(y_test, pre2))"
      ],
      "execution_count": 62,
      "outputs": [
        {
          "output_type": "stream",
          "text": [
            "精確率： 未調參 0.7837837837837838 調參後 0.9\n",
            "招回率： 未調參 0.725 調參後 0.675\n",
            "F1 score： 未調參 0.7532467532467533 調參後 0.7714285714285714\n"
          ],
          "name": "stdout"
        }
      ]
    },
    {
      "cell_type": "code",
      "metadata": {
        "colab": {
          "base_uri": "https://localhost:8080/",
          "height": 1000
        },
        "id": "x7273PXxC-pd",
        "outputId": "4b9bf4aa-640d-405e-9740-808f79742c23"
      },
      "source": [
        "# data visualization\n",
        "from sklearn.tree import plot_tree\n",
        "import matplotlib.pyplot as plt\n",
        "plt.figure(figsize = (20, 20))\n",
        "plot_tree(dt_clf2, feature_names = data.columns, class_names=['no disease', 'heart disease'])"
      ],
      "execution_count": 63,
      "outputs": [
        {
          "output_type": "execute_result",
          "data": {
            "text/plain": [
              "[Text(558.0, 951.3000000000001, 'slope_upsloping <= 0.5\\ngini = 0.499\\nsamples = 240\\nvalue = [116, 124]\\nclass = heart disease'),\n",
              " Text(279.0, 679.5, 'cp_non-anginal pain <= 0.5\\ngini = 0.359\\nsamples = 111\\nvalue = [85, 26]\\nclass = no disease'),\n",
              " Text(139.5, 407.70000000000005, 'slope_downsloping <= 0.5\\ngini = 0.5\\nsamples = 35\\nvalue = [17, 18]\\nclass = heart disease'),\n",
              " Text(69.75, 135.89999999999998, 'gini = 0.305\\nsamples = 16\\nvalue = [3, 13]\\nclass = heart disease'),\n",
              " Text(209.25, 135.89999999999998, 'gini = 0.388\\nsamples = 19\\nvalue = [14, 5]\\nclass = no disease'),\n",
              " Text(418.5, 407.70000000000005, 'oldpeak <= 0.55\\ngini = 0.188\\nsamples = 76\\nvalue = [68, 8]\\nclass = no disease'),\n",
              " Text(348.75, 135.89999999999998, 'gini = 0.444\\nsamples = 18\\nvalue = [12, 6]\\nclass = no disease'),\n",
              " Text(488.25, 135.89999999999998, 'gini = 0.067\\nsamples = 58\\nvalue = [56, 2]\\nclass = no disease'),\n",
              " Text(837.0, 679.5, 'ca <= 0.5\\ngini = 0.365\\nsamples = 129\\nvalue = [31, 98]\\nclass = heart disease'),\n",
              " Text(697.5, 407.70000000000005, 'trestbps <= 158.0\\ngini = 0.206\\nsamples = 86\\nvalue = [10, 76]\\nclass = heart disease'),\n",
              " Text(627.75, 135.89999999999998, 'gini = 0.156\\nsamples = 82\\nvalue = [7, 75]\\nclass = heart disease'),\n",
              " Text(767.25, 135.89999999999998, 'gini = 0.375\\nsamples = 4\\nvalue = [3, 1]\\nclass = no disease'),\n",
              " Text(976.5, 407.70000000000005, 'cp_atypical angina <= 0.5\\ngini = 0.5\\nsamples = 43\\nvalue = [21, 22]\\nclass = heart disease'),\n",
              " Text(906.75, 135.89999999999998, 'gini = 0.408\\nsamples = 28\\nvalue = [20, 8]\\nclass = no disease'),\n",
              " Text(1046.25, 135.89999999999998, 'gini = 0.124\\nsamples = 15\\nvalue = [1, 14]\\nclass = heart disease')]"
            ]
          },
          "metadata": {
            "tags": []
          },
          "execution_count": 63
        },
        {
          "output_type": "display_data",
          "data": {
            "image/png": "[encoded data removed]",
            "text/plain": [
              "<Figure size 1440x1440 with 1 Axes>"
            ]
          },
          "metadata": {
            "tags": [],
            "needs_background": "light"
          }
        }
      ]
    }
  ]
}
